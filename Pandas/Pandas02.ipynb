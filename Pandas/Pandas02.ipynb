{
 "metadata": {
  "language_info": {
   "codemirror_mode": {
    "name": "ipython",
    "version": 3
   },
   "file_extension": ".py",
   "mimetype": "text/x-python",
   "name": "python",
   "nbconvert_exporter": "python",
   "pygments_lexer": "ipython3",
   "version": "3.7.7-final"
  },
  "orig_nbformat": 2,
  "kernelspec": {
   "name": "python_defaultSpec_1598683403812",
   "display_name": "Python 3.7.7 64-bit ('tensorflow3.7': conda)"
  }
 },
 "nbformat": 4,
 "nbformat_minor": 2,
 "cells": [
  {
   "cell_type": "markdown",
   "metadata": {},
   "source": [
    "### 데이터 프레임의 Null 여부 확인\n"
   ]
  },
  {
   "cell_type": "code",
   "execution_count": 1,
   "metadata": {
    "tags": []
   },
   "outputs": [
    {
     "output_type": "stream",
     "name": "stdout",
     "text": "word  frequency  importance\nApple    사과        3.0           3\nBanana  바나나        5.0           2\nCarrot   당근        NaN           1\nDurian  두리안        2.0           1\n        word  frequency  importance\nApple   True       True        True\nBanana  True       True        True\nCarrot  True      False        True\nDurian  True       True        True\n         word  frequency  importance\nApple   False      False       False\nBanana  False      False       False\nCarrot  False       True       False\nDurian  False      False       False\n       word frequency  importance\nApple    사과         3           3\nBanana  바나나         5           2\nCarrot   당근    데이터 없음           1\nDurian  두리안         2           1\n"
    }
   ],
   "source": [
    "import pandas as pd\n",
    "import numpy as np\n",
    "\n",
    "word_dict = {\n",
    "    'Apple': '사과',\n",
    "    'Banana': '바나나',\n",
    "    'Carrot': '당근',\n",
    "    'Durian': '두리안'\n",
    "}\n",
    "\n",
    "frequency_dict = {\n",
    "    'Apple': 3,\n",
    "    'Banana': 5,\n",
    "    'Carrot': np.nan,\n",
    "    'Durian': 2\n",
    "}\n",
    "\n",
    "importance_dict = {\n",
    "    'Apple': 3,\n",
    "    'Banana': 2,\n",
    "    'Carrot': 1,\n",
    "    'Durian': 1\n",
    "}\n",
    "\n",
    "word = pd.Series(word_dict)\n",
    "frequency = pd.Series(frequency_dict)\n",
    "importance = pd.Series(importance_dict)\n",
    "\n",
    "summary = pd.DataFrame({\n",
    "    'word': word,\n",
    "    'frequency': frequency,\n",
    "    'importance': importance\n",
    "})\n",
    "\n",
    "print(summary)\n",
    "print(summary.notnull())\n",
    "print(summary.isnull())\n",
    "summary['frequency'] = summary['frequency'].fillna('데이터 없음')\n",
    "print(summary)\n",
    "\n"
   ]
  },
  {
   "cell_type": "markdown",
   "metadata": {},
   "source": [
    "### 시리즈 자료형의 연산"
   ]
  },
  {
   "cell_type": "code",
   "execution_count": 3,
   "metadata": {
    "tags": []
   },
   "outputs": [
    {
     "output_type": "stream",
     "name": "stdout",
     "text": "A    1.0\nB    6.0\nC    8.0\nD    6.0\ndtype: float64\n"
    }
   ],
   "source": [
    "import pandas as pd\n",
    "\n",
    "array1 = pd.Series([1, 2, 3], index=['A', 'B', 'C'])\n",
    "array2 = pd.Series([4, 5, 6], index=['B', 'C', 'D'])\n",
    "\n",
    "array = array1.add(array2, fill_value=0)\n",
    "print(array)"
   ]
  },
  {
   "cell_type": "markdown",
   "metadata": {},
   "source": [
    "### 데이터 프레임 집계 함수"
   ]
  },
  {
   "cell_type": "code",
   "execution_count": 7,
   "metadata": {
    "tags": []
   },
   "outputs": [
    {
     "output_type": "stream",
     "name": "stdout",
     "text": "0    1    2\nA  1.0  2.0  NaN\nB  4.0  6.0  3.0\nC  4.0  5.0  6.0\nD  7.0  8.0  9.0\n컬럽 1의 합:  21.0\n0    16.0\n1    21.0\n2    18.0\ndtype: float64\n"
    }
   ],
   "source": [
    "import pandas as pd\n",
    "\n",
    "array1 = pd.DataFrame([[1, 2], [3, 4]], index=['A', 'B'])\n",
    "array2 = pd.DataFrame([[1, 2, 3], [4, 5, 6], [7, 8, 9]], index=['B', 'C', 'D'])\n",
    "\n",
    "array = array1.add(array2, fill_value=0)\n",
    "print(array)\n",
    "print('컬럽 1의 합: ', array[1].sum())\n",
    "print(array.sum())"
   ]
  },
  {
   "cell_type": "markdown",
   "metadata": {},
   "source": [
    "### 데이터 프레임 정렬 함수\n"
   ]
  },
  {
   "cell_type": "code",
   "execution_count": 8,
   "metadata": {
    "tags": []
   },
   "outputs": [
    {
     "output_type": "stream",
     "name": "stdout",
     "text": "word  frequency  importance\nApple    사과          3           3\nBanana  바나나          5           2\nCarrot   당근          1           1\nDurian  두리안          2           1\n       word  frequency  importance\nBanana  바나나          5           2\nApple    사과          3           3\nDurian  두리안          2           1\nCarrot   당근          1           1\n"
    }
   ],
   "source": [
    "import pandas as pd\n",
    "import numpy as np\n",
    "\n",
    "word_dict = {\n",
    "    'Apple': '사과',\n",
    "    'Banana': '바나나',\n",
    "    'Carrot': '당근',\n",
    "    'Durian': '두리안'\n",
    "}\n",
    "\n",
    "frequency_dict = {\n",
    "    'Apple': 3,\n",
    "    'Banana': 5,\n",
    "    'Carrot': 1,\n",
    "    'Durian': 2\n",
    "}\n",
    "\n",
    "importance_dict = {\n",
    "    'Apple': 3,\n",
    "    'Banana': 2,\n",
    "    'Carrot': 1,\n",
    "    'Durian': 1\n",
    "}\n",
    "\n",
    "word = pd.Series(word_dict)\n",
    "frequency = pd.Series(frequency_dict)\n",
    "importance = pd.Series(importance_dict)\n",
    "\n",
    "summary = pd.DataFrame({\n",
    "    'word': word,\n",
    "    'frequency': frequency,\n",
    "    'importance': importance\n",
    "})\n",
    "\n",
    "print(summary)\n",
    "summary = summary.sort_values('frequency', ascending=False)\n",
    "print(summary)\n"
   ]
  },
  {
   "cell_type": "code",
   "execution_count": null,
   "metadata": {},
   "outputs": [],
   "source": []
  }
 ]
}