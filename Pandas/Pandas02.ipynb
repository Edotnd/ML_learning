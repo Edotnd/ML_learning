{
 "metadata": {
  "language_info": {
   "codemirror_mode": {
    "name": "ipython",
    "version": 3
   },
   "file_extension": ".py",
   "mimetype": "text/x-python",
   "name": "python",
   "nbconvert_exporter": "python",
   "pygments_lexer": "ipython3",
   "version": "3.7.7-final"
  },
  "orig_nbformat": 2,
  "kernelspec": {
   "name": "python_defaultSpec_1598623444606",
   "display_name": "Python 3.7.7 64-bit ('tensorflow3.7': conda)"
  }
 },
 "nbformat": 4,
 "nbformat_minor": 2,
 "cells": [
  {
   "cell_type": "markdown",
   "metadata": {},
   "source": [
    "### 데이터 프레임의 마스킹"
   ]
  },
  {
   "cell_type": "code",
   "execution_count": 10,
   "metadata": {
    "tags": []
   },
   "outputs": [
    {
     "output_type": "stream",
     "name": "stdout",
     "text": "A  B\n0  9  6\n1  4  7\n0    False\n1     True\nName: A, dtype: bool\n   A  B\n1  4  7\n"
    }
   ],
   "source": [
    "import numpy as np\n",
    "import pandas as pd\n",
    "\n",
    "df = pd.DataFrame(np.random.randint(1, 10, (2, 2)), index=[0, 1], columns=['A', 'B'])\n",
    "# 데이터 프레임 출력하기\n",
    "print(df)\n",
    "# 컬럼 A의 각 원소가 5보다 작거나 같은지 출력\n",
    "print(df['A']<=5)\n",
    "# 컬럼 A의 각 원소가 5보다 작고, 컬럼 B의 원소가 8보다 작은 행 추출\n",
    "print(df.query('A <= 5 and B <= 8'))"
   ]
  },
  {
   "cell_type": "markdown",
   "metadata": {},
   "source": [
    "### 데이터 프레임의 개별 연산 1"
   ]
  },
  {
   "cell_type": "code",
   "execution_count": 16,
   "metadata": {
    "tags": []
   },
   "outputs": [
    {
     "output_type": "stream",
     "name": "stdout",
     "text": "A  B  C  D\n0  1  2  3  4\n1  1  2  3  4\n   A  B  C  D\n0  2  3  4  5\n1  2  3  4  5\n   A  B  C  D\n0  3  4  5  6\n1  3  4  5  6\n"
    }
   ],
   "source": [
    "import pandas as pd\n",
    "\n",
    "df = pd.DataFrame([[1, 2, 3, 4], [1, 2, 3, 4]], index=[0, 1], columns=['A', 'B', 'C', 'D'])\n",
    "print(df)\n",
    "\n",
    "df = df.apply(lambda x: x +1)\n",
    "print(df)\n",
    "\n",
    "def addOne(x):\n",
    "    return x + 1\n",
    "df = df.apply(addOne)\n",
    "print(df)"
   ]
  },
  {
   "cell_type": "code",
   "execution_count": 19,
   "metadata": {
    "tags": []
   },
   "outputs": [
    {
     "output_type": "stream",
     "name": "stdout",
     "text": "A       B       C       D\n0   Apple   Apple  Carrot  Banana\n1  Durian  Banana   Apple  Carrot\n         A        B        C       D\n0  Airport  Airport   Carrot  Banana\n1   Durian   Banana  Airport  Carrot\n"
    }
   ],
   "source": [
    "import pandas as pd\n",
    "\n",
    "df = pd.DataFrame([['Apple', 'Apple', 'Carrot', 'Banana'], ['Durian', 'Banana', 'Apple', 'Carrot']], index=[0, 1], columns=['A', 'B', 'C', 'D'])\n",
    "print(df)\n",
    "df = df.replace({'Apple': 'Airport'})\n",
    "print(df)"
   ]
  },
  {
   "cell_type": "markdown",
   "metadata": {},
   "source": [
    "### 데이터 프레임의 그룹화 1"
   ]
  },
  {
   "cell_type": "code",
   "execution_count": 20,
   "metadata": {
    "tags": []
   },
   "outputs": [
    {
     "output_type": "stream",
     "name": "stdout",
     "text": "Name  Frequency   Type\n0   Apple          7  Fruit\n1  Banana          3  Fruit\n2    Beef          5   Meal\n3  Kimchi          4   Meal\n       Frequency\nType            \nFruit         10\nMeal           9\n"
    }
   ],
   "source": [
    "import pandas as pd\n",
    "\n",
    "df = pd.DataFrame([\n",
    "    ['Apple', 7, 'Fruit'],\n",
    "    ['Banana', 3, 'Fruit'],\n",
    "    ['Beef', 5, 'Meal'],\n",
    "    ['Kimchi', 4, 'Meal']\n",
    "], columns=['Name', \"Frequency\", \"Type\"])\n",
    "\n",
    "print(df)\n",
    "print(df.groupby(['Type']).sum())"
   ]
  },
  {
   "cell_type": "markdown",
   "metadata": {},
   "source": [
    "### 데이터 프레임의 그룹화 2"
   ]
  },
  {
   "cell_type": "code",
   "execution_count": 21,
   "metadata": {
    "tags": []
   },
   "outputs": [
    {
     "output_type": "stream",
     "name": "stdout",
     "text": "Name  Frequency   Type\n0   Apple          7  Fruit\n1  Banana          3  Fruit\n2    Beef          5   Meal\n3  Kimchi          4   Meal\n      Frequency            \n            min max average\nType                       \nFruit         3   7     5.0\nMeal          4   5     4.5\n"
    }
   ],
   "source": [
    "import pandas as pd\n",
    "\n",
    "df = pd.DataFrame([\n",
    "    ['Apple', 7, 'Fruit'],\n",
    "    ['Banana', 3, 'Fruit'],\n",
    "    ['Beef', 5, 'Meal'],\n",
    "    ['Kimchi', 4, 'Meal']\n",
    "], columns=['Name', \"Frequency\", \"Type\"])\n",
    "\n",
    "print(df)\n",
    "print(df.groupby(['Type']).aggregate([min, max, np.average]))"
   ]
  },
  {
   "cell_type": "markdown",
   "metadata": {},
   "source": [
    "### 데이터 프레임의 그룹화 3"
   ]
  },
  {
   "cell_type": "code",
   "execution_count": 22,
   "metadata": {
    "tags": []
   },
   "outputs": [
    {
     "output_type": "stream",
     "name": "stdout",
     "text": "Name  Frequency   Type\n0   Apple          7  Fruit\n1  Banana          3  Fruit\n2    Beef          5   Meal\n3  Kimchi          4   Meal\n     Name  Frequency   Type\n0   Apple          7  Fruit\n1  Banana          3  Fruit\n"
    }
   ],
   "source": [
    "import pandas as pd\n",
    "\n",
    "df = pd.DataFrame([\n",
    "    ['Apple', 7, 'Fruit'],\n",
    "    ['Banana', 3, 'Fruit'],\n",
    "    ['Beef', 5, 'Meal'],\n",
    "    ['Kimchi', 4, 'Meal']\n",
    "], columns=['Name', \"Frequency\", \"Type\"])\n",
    "\n",
    "def my_filter(data):\n",
    "    return data['Frequency'].mean() >= 5\n",
    "\n",
    "print(df)\n",
    "df = df.groupby(\"Type\").filter(my_filter)\n",
    "print(df)"
   ]
  },
  {
   "cell_type": "markdown",
   "metadata": {},
   "source": [
    "### 데이터 프레임의 그룹화 4"
   ]
  },
  {
   "cell_type": "code",
   "execution_count": 23,
   "metadata": {
    "tags": []
   },
   "outputs": [
    {
     "output_type": "stream",
     "name": "stdout",
     "text": "Name  Frequency   Type\n0   Apple          7  Fruit\n1  Banana          3  Fruit\n"
    }
   ],
   "source": [
    "import pandas as pd\n",
    "\n",
    "df = pd.DataFrame([\n",
    "    ['Apple', 7, 'Fruit'],\n",
    "    ['Banana', 3, 'Fruit'],\n",
    "    ['Beef', 5, 'Meal'],\n",
    "    ['Kimchi', 4, 'Meal']\n",
    "], columns=['Name', \"Frequency\", \"Type\"])\n",
    "\n",
    "df = df.groupby(\"Type\").get_group(\"Fruit\")\n",
    "print(df)"
   ]
  },
  {
   "cell_type": "markdown",
   "metadata": {},
   "source": [
    "### 데이터 프레임 구룹화 5"
   ]
  },
  {
   "cell_type": "code",
   "execution_count": 25,
   "metadata": {
    "tags": []
   },
   "outputs": [
    {
     "output_type": "stream",
     "name": "stdout",
     "text": "Name  Frequency   Type  Gap\n0   Apple          7  Fruit  2.0\n1  Banana          3  Fruit -2.0\n2    Beef          5   Meal  0.5\n3  Kimchi          4   Meal -0.5\n"
    }
   ],
   "source": [
    "import pandas as pd\n",
    "\n",
    "df = pd.DataFrame([\n",
    "    ['Apple', 7, 'Fruit'],\n",
    "    ['Banana', 3, 'Fruit'],\n",
    "    ['Beef', 5, 'Meal'],\n",
    "    ['Kimchi', 4, 'Meal']\n",
    "], columns=['Name', \"Frequency\", \"Type\"])\n",
    "\n",
    "df['Gap'] = df.groupby('Type')[\"Frequency\"].apply(lambda x: x - x.mean())\n",
    "print(df)"
   ]
  },
  {
   "cell_type": "markdown",
   "metadata": {},
   "source": [
    "### 데이터 프레임의 다중화"
   ]
  },
  {
   "cell_type": "code",
   "execution_count": 26,
   "metadata": {
    "tags": []
   },
   "outputs": [
    {
     "output_type": "stream",
     "name": "stdout",
     "text": "1회  2회  3회  4회\n1차 공격   3   8   2   7\n   수비   2   4   7   6\n2차 공격   9   3   9   9\n   수비   2   4   1   2\n    1회  2회\n공격   9   3\n수비   2   4\n"
    }
   ],
   "source": [
    "import numpy as np\n",
    "import pandas as pd\n",
    "\n",
    "df = pd.DataFrame(\n",
    "    np.random.randint(1, 10, (4, 4)),\n",
    "    index=[['1차', '1차', '2차', '2차'], ['공격', '수비', '공격', '수비']],\n",
    "    columns=['1회', '2회', '3회', '4회']\n",
    ")\n",
    "\n",
    "print(df)\n",
    "print(df[['1회', '2회']].loc['2차'])"
   ]
  },
  {
   "cell_type": "markdown",
   "metadata": {},
   "source": [
    "### 피벗 테이블의 기초"
   ]
  },
  {
   "cell_type": "code",
   "execution_count": 30,
   "metadata": {
    "tags": []
   },
   "outputs": [
    {
     "output_type": "stream",
     "name": "stdout",
     "text": "Name  Frequency  Importance   Type\n0    Apple          7           5  Fruit\n1   Banana          3           6  Fruit\n2  Coconut          2           6  Fruit\n3     Rice          8           2   Meal\n4     Beef          5           2   Meal\n5   Kimchi          4           8   Meal\n"
    },
    {
     "output_type": "execute_result",
     "data": {
      "text/plain": "Type        Fruit  Meal\nImportance             \n2             NaN   8.0\n5             7.0   NaN\n6             3.0   NaN\n8             NaN   4.0",
      "text/html": "<div>\n<style scoped>\n    .dataframe tbody tr th:only-of-type {\n        vertical-align: middle;\n    }\n\n    .dataframe tbody tr th {\n        vertical-align: top;\n    }\n\n    .dataframe thead th {\n        text-align: right;\n    }\n</style>\n<table border=\"1\" class=\"dataframe\">\n  <thead>\n    <tr style=\"text-align: right;\">\n      <th>Type</th>\n      <th>Fruit</th>\n      <th>Meal</th>\n    </tr>\n    <tr>\n      <th>Importance</th>\n      <th></th>\n      <th></th>\n    </tr>\n  </thead>\n  <tbody>\n    <tr>\n      <th>2</th>\n      <td>NaN</td>\n      <td>8.0</td>\n    </tr>\n    <tr>\n      <th>5</th>\n      <td>7.0</td>\n      <td>NaN</td>\n    </tr>\n    <tr>\n      <th>6</th>\n      <td>3.0</td>\n      <td>NaN</td>\n    </tr>\n    <tr>\n      <th>8</th>\n      <td>NaN</td>\n      <td>4.0</td>\n    </tr>\n  </tbody>\n</table>\n</div>"
     },
     "metadata": {},
     "execution_count": 30
    }
   ],
   "source": [
    "import numpy as np\n",
    "import pandas as pd\n",
    "\n",
    "df = pd.DataFrame([\n",
    "    ['Apple', 7, 5, 'Fruit'],\n",
    "    ['Banana', 3, 6, 'Fruit'],\n",
    "    ['Coconut', 2, 6, 'Fruit'],\n",
    "    ['Rice', 8, 2, 'Meal'],\n",
    "    ['Beef', 5, 2, 'Meal'],\n",
    "    ['Kimchi', 4, 8, 'Meal']\n",
    "], columns=['Name', \"Frequency\", \"Importance\", \"Type\"])\n",
    "\n",
    "print(df)\n",
    "df = df.pivot_table(\n",
    "    index=\"Importance\", columns=\"Type\", values=\"Frequency\",\n",
    "    aggfunc=np.max\n",
    ")\n",
    "df"
   ]
  },
  {
   "cell_type": "code",
   "execution_count": null,
   "metadata": {},
   "outputs": [],
   "source": []
  }
 ]
}