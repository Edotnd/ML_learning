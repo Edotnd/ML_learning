{
 "metadata": {
  "language_info": {
   "codemirror_mode": {
    "name": "ipython",
    "version": 3
   },
   "file_extension": ".py",
   "mimetype": "text/x-python",
   "name": "python",
   "nbconvert_exporter": "python",
   "pygments_lexer": "ipython3",
   "version": "3.7.7-final"
  },
  "orig_nbformat": 2,
  "kernelspec": {
   "name": "python_defaultSpec_1598620645619",
   "display_name": "Python 3.7.7 64-bit ('tensorflow3.7': conda)"
  }
 },
 "nbformat": 4,
 "nbformat_minor": 2,
 "cells": [
  {
   "cell_type": "markdown",
   "metadata": {},
   "source": [
    "# Pandas의 기본 사용법\n",
    "### Series란?\n",
    ". 시리즈는 인덱스와 값으로 구성"
   ]
  },
  {
   "cell_type": "code",
   "execution_count": 6,
   "metadata": {
    "tags": []
   },
   "outputs": [
    {
     "output_type": "stream",
     "name": "stdout",
     "text": "a     사과\nb    바나나\nc     당근\ndtype: object\n사과\n"
    }
   ],
   "source": [
    "import pandas as pd\n",
    "\n",
    "array = pd.Series(['사과', '바나나', '당근'], index=['a', 'b', 'c'])\n",
    "print(array)\n",
    "print(array['a'])"
   ]
  },
  {
   "cell_type": "code",
   "execution_count": 8,
   "metadata": {
    "tags": []
   },
   "outputs": [
    {
     "output_type": "stream",
     "name": "stdout",
     "text": "사과\n"
    }
   ],
   "source": [
    "import pandas as pd\n",
    "\n",
    "data = {\n",
    "    'a': '사과',\n",
    "    'b': '바나나',\n",
    "    'c': '당근'\n",
    "}\n",
    "\n",
    "# Dict 자료형을 Series로 바꾸기\n",
    "array = pd.Series(data)\n",
    "print(array['a'])"
   ]
  },
  {
   "cell_type": "markdown",
   "metadata": {},
   "source": [
    "### 데이터 프레임이란?\n",
    "\n",
    ". 다수의 시리즈(Series)를 모아 처리하기 위한 목적으로 사용\n",
    "\n",
    ". 표 형태로 데이터를 손쉽게 출력하고자 할 때 사용할 수 있음"
   ]
  },
  {
   "cell_type": "code",
   "execution_count": 14,
   "metadata": {
    "tags": []
   },
   "outputs": [
    {
     "output_type": "execute_result",
     "data": {
      "text/plain": "       word  frequency\nApple    사과          3\nBanana  바나나          5\nCarrot   당근          7",
      "text/html": "<div>\n<style scoped>\n    .dataframe tbody tr th:only-of-type {\n        vertical-align: middle;\n    }\n\n    .dataframe tbody tr th {\n        vertical-align: top;\n    }\n\n    .dataframe thead th {\n        text-align: right;\n    }\n</style>\n<table border=\"1\" class=\"dataframe\">\n  <thead>\n    <tr style=\"text-align: right;\">\n      <th></th>\n      <th>word</th>\n      <th>frequency</th>\n    </tr>\n  </thead>\n  <tbody>\n    <tr>\n      <th>Apple</th>\n      <td>사과</td>\n      <td>3</td>\n    </tr>\n    <tr>\n      <th>Banana</th>\n      <td>바나나</td>\n      <td>5</td>\n    </tr>\n    <tr>\n      <th>Carrot</th>\n      <td>당근</td>\n      <td>7</td>\n    </tr>\n  </tbody>\n</table>\n</div>"
     },
     "metadata": {},
     "execution_count": 14
    }
   ],
   "source": [
    "import pandas as pd\n",
    "\n",
    "word_dict = {\n",
    "    'Apple': '사과',\n",
    "    'Banana': '바나나',\n",
    "    'Carrot': '당근'\n",
    "}\n",
    "\n",
    "frequency_dict = {\n",
    "    'Apple': 3,\n",
    "    'Banana': 5,\n",
    "    'Carrot': 7\n",
    "}\n",
    "\n",
    "word = pd.Series(word_dict)\n",
    "frequency = pd.Series(frequency_dict)\n",
    "\n",
    "# 이름(Name): 값(Value)\n",
    "summary = pd.DataFrame({\n",
    "    'word': word,\n",
    "    'frequency': frequency\n",
    "})\n",
    "\n",
    "summary"
   ]
  },
  {
   "cell_type": "markdown",
   "metadata": {},
   "source": [
    "### 시리즈 연산\n",
    "\n",
    ". 시리즈를 서로 연산하여 새로운 시리즈를 만들 수 있다."
   ]
  },
  {
   "cell_type": "code",
   "execution_count": 16,
   "metadata": {},
   "outputs": [
    {
     "output_type": "execute_result",
     "data": {
      "text/plain": "       word  frequency  importance  score\nApple    사과          3           3      9\nBanana  바나나          5           2     10\nCarrot   당근          7           1      7",
      "text/html": "<div>\n<style scoped>\n    .dataframe tbody tr th:only-of-type {\n        vertical-align: middle;\n    }\n\n    .dataframe tbody tr th {\n        vertical-align: top;\n    }\n\n    .dataframe thead th {\n        text-align: right;\n    }\n</style>\n<table border=\"1\" class=\"dataframe\">\n  <thead>\n    <tr style=\"text-align: right;\">\n      <th></th>\n      <th>word</th>\n      <th>frequency</th>\n      <th>importance</th>\n      <th>score</th>\n    </tr>\n  </thead>\n  <tbody>\n    <tr>\n      <th>Apple</th>\n      <td>사과</td>\n      <td>3</td>\n      <td>3</td>\n      <td>9</td>\n    </tr>\n    <tr>\n      <th>Banana</th>\n      <td>바나나</td>\n      <td>5</td>\n      <td>2</td>\n      <td>10</td>\n    </tr>\n    <tr>\n      <th>Carrot</th>\n      <td>당근</td>\n      <td>7</td>\n      <td>1</td>\n      <td>7</td>\n    </tr>\n  </tbody>\n</table>\n</div>"
     },
     "metadata": {},
     "execution_count": 16
    }
   ],
   "source": [
    "import pandas as pd\n",
    "\n",
    "word_dict = {\n",
    "    'Apple': '사과',\n",
    "    'Banana': '바나나',\n",
    "    'Carrot': '당근'\n",
    "}\n",
    "\n",
    "frequency_dict = {\n",
    "    'Apple': 3,\n",
    "    'Banana': 5,\n",
    "    'Carrot': 7\n",
    "}\n",
    "\n",
    "importance_dict = {\n",
    "    'Apple': 3,\n",
    "    'Banana': 2,\n",
    "    'Carrot': 1\n",
    "}\n",
    "\n",
    "word = pd.Series(word_dict)\n",
    "frequency = pd.Series(frequency_dict)\n",
    "importance = pd.Series(importance_dict)\n",
    "\n",
    "summary = pd.DataFrame({\n",
    "    'word': word,\n",
    "    'frequency': frequency,\n",
    "    'importance': importance\n",
    "})\n",
    "\n",
    "score = summary['frequency']*summary['importance']\n",
    "summary['score'] = score\n",
    "summary"
   ]
  },
  {
   "cell_type": "markdown",
   "metadata": {},
   "source": [
    "### 데이터 프레임 슬라이싱"
   ]
  },
  {
   "cell_type": "code",
   "execution_count": 28,
   "metadata": {
    "tags": []
   },
   "outputs": [
    {
     "output_type": "execute_result",
     "data": {
      "text/plain": "        importance\nBanana           2\nCarrot           1",
      "text/html": "<div>\n<style scoped>\n    .dataframe tbody tr th:only-of-type {\n        vertical-align: middle;\n    }\n\n    .dataframe tbody tr th {\n        vertical-align: top;\n    }\n\n    .dataframe thead th {\n        text-align: right;\n    }\n</style>\n<table border=\"1\" class=\"dataframe\">\n  <thead>\n    <tr style=\"text-align: right;\">\n      <th></th>\n      <th>importance</th>\n    </tr>\n  </thead>\n  <tbody>\n    <tr>\n      <th>Banana</th>\n      <td>2</td>\n    </tr>\n    <tr>\n      <th>Carrot</th>\n      <td>1</td>\n    </tr>\n  </tbody>\n</table>\n</div>"
     },
     "metadata": {},
     "execution_count": 28
    }
   ],
   "source": [
    "import pandas as pd\n",
    "\n",
    "word_dict = {\n",
    "    'Apple': '사과',\n",
    "    'Banana': '바나나',\n",
    "    'Carrot': '당근'\n",
    "}\n",
    "\n",
    "frequency_dict = {\n",
    "    'Apple': 3,\n",
    "    'Banana': 5,\n",
    "    'Carrot': 7\n",
    "}\n",
    "\n",
    "importance_dict = {\n",
    "    'Apple': 3,\n",
    "    'Banana': 2,\n",
    "    'Carrot': 1\n",
    "}\n",
    "\n",
    "word = pd.Series(word_dict)\n",
    "frequency = pd.Series(frequency_dict)\n",
    "importance = pd.Series(importance_dict)\n",
    "\n",
    "summary = pd.DataFrame({\n",
    "    'word': word,\n",
    "    'frequency': frequency,\n",
    "    'importance': importance\n",
    "})\n",
    "\n",
    "summary\n",
    "\n",
    "# 이름을 기준으로 슬라이싱\n",
    "summary.loc['Banana':'Carrot', 'importance':]\n",
    "\n",
    "# 인덱스를 기준으로 슬라이싱\n",
    "summary.iloc[1:3, 2:]"
   ]
  },
  {
   "cell_type": "code",
   "execution_count": 31,
   "metadata": {},
   "outputs": [
    {
     "output_type": "execute_result",
     "data": {
      "text/plain": "            word  frequency  importance\nApple         사과          3           5\nBanana       바나나          5           2\nCarrot        당근          7           1\nElderberry  엘더베리          5           3",
      "text/html": "<div>\n<style scoped>\n    .dataframe tbody tr th:only-of-type {\n        vertical-align: middle;\n    }\n\n    .dataframe tbody tr th {\n        vertical-align: top;\n    }\n\n    .dataframe thead th {\n        text-align: right;\n    }\n</style>\n<table border=\"1\" class=\"dataframe\">\n  <thead>\n    <tr style=\"text-align: right;\">\n      <th></th>\n      <th>word</th>\n      <th>frequency</th>\n      <th>importance</th>\n    </tr>\n  </thead>\n  <tbody>\n    <tr>\n      <th>Apple</th>\n      <td>사과</td>\n      <td>3</td>\n      <td>5</td>\n    </tr>\n    <tr>\n      <th>Banana</th>\n      <td>바나나</td>\n      <td>5</td>\n      <td>2</td>\n    </tr>\n    <tr>\n      <th>Carrot</th>\n      <td>당근</td>\n      <td>7</td>\n      <td>1</td>\n    </tr>\n    <tr>\n      <th>Elderberry</th>\n      <td>엘더베리</td>\n      <td>5</td>\n      <td>3</td>\n    </tr>\n  </tbody>\n</table>\n</div>"
     },
     "metadata": {},
     "execution_count": 31
    }
   ],
   "source": [
    "import pandas as pd\n",
    "\n",
    "word_dict = {\n",
    "    'Apple': '사과',\n",
    "    'Banana': '바나나',\n",
    "    'Carrot': '당근'\n",
    "}\n",
    "\n",
    "frequency_dict = {\n",
    "    'Apple': 3,\n",
    "    'Banana': 5,\n",
    "    'Carrot': 7\n",
    "}\n",
    "\n",
    "importance_dict = {\n",
    "    'Apple': 3,\n",
    "    'Banana': 2,\n",
    "    'Carrot': 1\n",
    "}\n",
    "\n",
    "word = pd.Series(word_dict)\n",
    "frequency = pd.Series(frequency_dict)\n",
    "importance = pd.Series(importance_dict)\n",
    "\n",
    "summary = pd.DataFrame({\n",
    "    'word': word,\n",
    "    'frequency': frequency,\n",
    "    'importance': importance\n",
    "})\n",
    "\n",
    "summary.loc['Apple', 'importance'] = 5 # 데이터의 변경\n",
    "summary\n",
    "summary.loc['Elderberry'] = ['엘더베리', 5, 3] # 데이터 삽입\n",
    "summary\n"
   ]
  },
  {
   "cell_type": "code",
   "execution_count": 32,
   "metadata": {},
   "outputs": [
    {
     "output_type": "execute_result",
     "data": {
      "text/plain": "       word  frequency\nApple    사과          3\nBanana  바나나          5\nCarrot   당근          7",
      "text/html": "<div>\n<style scoped>\n    .dataframe tbody tr th:only-of-type {\n        vertical-align: middle;\n    }\n\n    .dataframe tbody tr th {\n        vertical-align: top;\n    }\n\n    .dataframe thead th {\n        text-align: right;\n    }\n</style>\n<table border=\"1\" class=\"dataframe\">\n  <thead>\n    <tr style=\"text-align: right;\">\n      <th></th>\n      <th>word</th>\n      <th>frequency</th>\n    </tr>\n  </thead>\n  <tbody>\n    <tr>\n      <th>Apple</th>\n      <td>사과</td>\n      <td>3</td>\n    </tr>\n    <tr>\n      <th>Banana</th>\n      <td>바나나</td>\n      <td>5</td>\n    </tr>\n    <tr>\n      <th>Carrot</th>\n      <td>당근</td>\n      <td>7</td>\n    </tr>\n  </tbody>\n</table>\n</div>"
     },
     "metadata": {},
     "execution_count": 32
    }
   ],
   "source": [
    "import pandas as pd\n",
    "\n",
    "word_dict = {\n",
    "    'Apple': '사과',\n",
    "    'Banana': '바나나',\n",
    "    'Carrot': '당근'\n",
    "}\n",
    "\n",
    "frequency_dict = {\n",
    "    'Apple': 3,\n",
    "    'Banana': 5,\n",
    "    'Carrot': 7\n",
    "}\n",
    "\n",
    "word = pd.Series(word_dict)\n",
    "frequency = pd.Series(frequency_dict)\n",
    "\n",
    "summary = pd.DataFrame({\n",
    "    'word': word,\n",
    "    'frequency': frequency\n",
    "})\n",
    "\n",
    "summary.to_csv(\"summary.csv\", encoding=\"utf-8-sig\")\n",
    "saved = pd.read_csv(\"summary.csv\", index_col=0)\n",
    "saved\n"
   ]
  }
 ]
}