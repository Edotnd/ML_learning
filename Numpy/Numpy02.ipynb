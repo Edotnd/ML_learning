{
 "metadata": {
  "language_info": {
   "codemirror_mode": {
    "name": "ipython",
    "version": 3
   },
   "file_extension": ".py",
   "mimetype": "text/x-python",
   "name": "python",
   "nbconvert_exporter": "python",
   "pygments_lexer": "ipython3",
   "version": "3.7.7-final"
  },
  "orig_nbformat": 2,
  "kernelspec": {
   "name": "python_defaultSpec_1598523771870",
   "display_name": "Python 3.7.7 64-bit ('tensorflow3.7': conda)"
  }
 },
 "nbformat": 4,
 "nbformat_minor": 2,
 "cells": [
  {
   "cell_type": "code",
   "execution_count": 7,
   "metadata": {
    "tags": []
   },
   "outputs": [
    {
     "output_type": "stream",
     "name": "stdout",
     "text": "[[5 6]\n [8 3]]\n"
    }
   ],
   "source": [
    "import numpy as np\n",
    "\n",
    "array = np.random.randint(1, 10, size=4).reshape(2, 2)\n",
    "print(array)"
   ]
  },
  {
   "cell_type": "code",
   "execution_count": 12,
   "metadata": {
    "tags": []
   },
   "outputs": [
    {
     "output_type": "stream",
     "name": "stdout",
     "text": "[[50 60]\n [80 30]]\n"
    }
   ],
   "source": [
    "result_array = array * 10\n",
    "print(result_array)"
   ]
  },
  {
   "cell_type": "code",
   "execution_count": 13,
   "metadata": {
    "tags": []
   },
   "outputs": [
    {
     "output_type": "stream",
     "name": "stdout",
     "text": "[[0 2]\n [2 4]]\n"
    }
   ],
   "source": [
    "array1 = np.arange(4).reshape(2, 2) # (2 x 2)\n",
    "array2 = np.arange(2) # (1 x 2)\n",
    "\n",
    "array3 = array1 + array2\n",
    "\n",
    "print(array3)\n"
   ]
  },
  {
   "cell_type": "markdown",
   "metadata": {},
   "source": [
    "### 위와 같은 작업을 브로드케스트라고 한다\n",
    ". 브로드케스트: 형태가 다른 배열을 연산할 수 있도록 배열의 형태를 동적으로 변환"
   ]
  },
  {
   "cell_type": "code",
   "execution_count": 38,
   "metadata": {
    "tags": []
   },
   "outputs": [
    {
     "output_type": "stream",
     "name": "stdout",
     "text": "[[0 1 2 3]\n [4 5 6 7]\n [0 1 2 3]\n [4 5 6 7]] \n\n[[0 1 2 3 0 1 2 3]\n [4 5 6 7 4 5 6 7]] \n\n[[ 0  1  2  3]\n [ 5  6  7  8]\n [ 2  3  4  5]\n [ 7  8  9 10]]\n"
    }
   ],
   "source": [
    "array1 = np.arange(0, 8).reshape(2, 4)\n",
    "array2 = np.arange(0, 8).reshape(2, 4)\n",
    "array3 = np.concatenate([array1, array2], axis=0)\n",
    "other_array3 = np.concatenate([array1, array2], axis=1)\n",
    "\n",
    "print(array3,'\\n')\n",
    "print(other_array3, '\\n')\n",
    "\n",
    "array4 = np.arange(4).reshape(4, 1) # (4 x 1)\n",
    "\n",
    "print(array3+array4)"
   ]
  },
  {
   "cell_type": "markdown",
   "metadata": {},
   "source": [
    "### Numpy의 마스킹 연산\n",
    "- 마스킹: 각 원소에 대하여 체크합니다."
   ]
  },
  {
   "cell_type": "code",
   "execution_count": 42,
   "metadata": {
    "tags": []
   },
   "outputs": [
    {
     "output_type": "stream",
     "name": "stdout",
     "text": "[[ 0  1  2  3]\n [ 4  5  6  7]\n [ 8  9 10 11]\n [12 13 14 15]]\n[[ True  True  True  True]\n [ True  True  True  True]\n [ True  True False False]\n [False False False False]]\n[[100 100 100 100]\n [100 100 100 100]\n [100 100  10  11]\n [ 12  13  14  15]]\n"
    }
   ],
   "source": [
    "import numpy as np\n",
    "\n",
    "array1 = np.arange(16).reshape(4, 4) \n",
    "print(array1)\n",
    "\n",
    "array2 = array1 < 10\n",
    "print(array2)\n",
    "\n",
    "array1[array2] = 100\n",
    "print(array1)"
   ]
  },
  {
   "cell_type": "markdown",
   "metadata": {},
   "source": [
    "### Numpy의 집계 함수\n"
   ]
  },
  {
   "cell_type": "code",
   "execution_count": 51,
   "metadata": {
    "tags": []
   },
   "outputs": [
    {
     "output_type": "stream",
     "name": "stdout",
     "text": "최대값:  15\n최솟값:  0\n합계:  120\n평균값:  7.5\n\n\n[[ 0  1  2  3]\n [ 4  5  6  7]\n [ 8  9 10 11]\n [12 13 14 15]] \n\n합계:  [24 28 32 36]\n"
    }
   ],
   "source": [
    "import numpy as np\n",
    "\n",
    "array = np.arange(16).reshape(4, 4)\n",
    "\n",
    "print(\"최대값: \", np.max(array))\n",
    "print(\"최솟값: \", np.min(array))\n",
    "print(\"합계: \", np.sum(array))\n",
    "print(\"평균값: \", np.mean(array))\n",
    "print('\\n')\n",
    "print(array, '\\n')\n",
    "\n",
    "print('합계: ', np.sum(array, axis=0))"
   ]
  }
 ]
}