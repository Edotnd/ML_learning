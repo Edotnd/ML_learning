{
  "nbformat": 4,
  "nbformat_minor": 0,
  "metadata": {
    "colab": {
      "name": "Numpy의 기본 사용법",
      "version": "0.3.2",
      "provenance": [],
      "include_colab_link": true
    },
    "kernelspec": {
      "name": "python_defaultSpec_1598519075768",
      "display_name": "Python 3.7.7 64-bit ('tensorflow3.7': conda)"
    }
  },
  "cells": [
    {
      "cell_type": "markdown",
      "metadata": {
        "id": "XK5zqqXSD5Vd",
        "colab_type": "text"
      },
      "source": [
        "\n",
        "## Numpy의 기본 사용법"
      ]
    },
    {
      "cell_type": "markdown",
      "metadata": {
        "id": "hqGi-UyhFFBM",
        "colab_type": "text"
      },
      "source": [
        "Python의 Numpy 라이브러리는 List와 **상호 변환이 가능**"
      ]
    },
    {
      "cell_type": "code",
      "metadata": {
        "id": "G5AmgwzoENVh",
        "colab_type": "code",
        "colab": {
          "base_uri": "https://localhost:8080/",
          "height": 70
        },
        "outputId": "3de972b6-6dd8-4bf0-d559-5d800fdee864"
      },
      "source": [
        "import numpy as np\n",
        "\n",
        "array = np.array([1, 2, 3])\n",
        "print(array.size) # 배열의 크기\n",
        "print(array.dtype) # 배열 원소의 타입\n",
        "print(array[2]) # 인덱스 2의 원소"
      ],
      "execution_count": 18,
      "outputs": [
        {
          "output_type": "stream",
          "text": [
            "3\n",
            "int64\n",
            "3\n"
          ],
          "name": "stdout"
        }
      ]
    },
    {
      "cell_type": "markdown",
      "metadata": {
        "id": "bzE_pyEHEUXU",
        "colab_type": "text"
      },
      "source": [
        "Python의 Numpy 라이브러리는 **다양한 형태의 배열**을 초기화 할 수 있다."
      ]
    },
    {
      "cell_type": "code",
      "metadata": {
        "id": "MO-eC8rzEPKK",
        "colab_type": "code",
        "colab": {
          "base_uri": "https://localhost:8080/",
          "height": 263
        },
        "outputId": "f3581290-5dfc-4995-b850-78579cfce320"
      },
      "source": [
        "import numpy as np\n",
        "\n",
        "# 0부터 3까지의 배열 만들기\n",
        "array1 = np.arange(4)\n",
        "print(array1)\n",
        "\n",
        "# 0으로 초기화\n",
        "array2 = np.zeros((4, 4), dtype=float)\n",
        "print(array2)\n",
        "\n",
        "# 1로 초기화\n",
        "array3 = np.ones((3, 3), dtype=str)\n",
        "print(array3)\n",
        "\n",
        "# 0부터 9까지 랜덤하게 초기화 된 배열 만들기\n",
        "array4 = np.random.randint(0, 10, (3, 3))\n",
        "print(array4)\n",
        "\n",
        "# 평균이 0이고 표준편차가 1인 표준 정규를 띄는 배열\n",
        "array5 = np.random.normal(0, 1, (3, 3))\n",
        "print(array5)"
      ],
      "execution_count": 19,
      "outputs": [
        {
          "output_type": "stream",
          "text": [
            "[0 1 2 3]\n",
            "[[0. 0. 0. 0.]\n",
            " [0. 0. 0. 0.]\n",
            " [0. 0. 0. 0.]\n",
            " [0. 0. 0. 0.]]\n",
            "[['1' '1' '1']\n",
            " ['1' '1' '1']\n",
            " ['1' '1' '1']]\n",
            "[[9 6 6]\n",
            " [6 2 1]\n",
            " [1 6 3]]\n",
            "[[-0.85995876 -2.27512351 -1.15556506]\n",
            " [-0.5298595   0.18397865  0.03568352]\n",
            " [ 0.00741686 -0.54831076 -1.38529353]]\n"
          ],
          "name": "stdout"
        }
      ]
    },
    {
      "cell_type": "markdown",
      "metadata": {
        "id": "BjNuQEp7FWJ1",
        "colab_type": "text"
      },
      "source": [
        "Numpy는 다양한 형태로 **합치기가 가능** 있습니다."
      ]
    },
    {
      "cell_type": "code",
      "metadata": {
        "id": "Yracqt2SEcDw",
        "colab_type": "code",
        "colab": {
          "base_uri": "https://localhost:8080/",
          "height": 52
        },
        "outputId": "1c4c399b-e848-4c82-aa9f-f2949b09b714"
      },
      "source": [
        "import numpy as np\n",
        "\n",
        "array1 = np.array([1, 2, 3]) \n",
        "array2 = np.array([4, 5, 6])\n",
        "array3 = np.concatenate([array1, array2])\n",
        "\n",
        "print(array3.shape)\n",
        "print(array3)"
      ],
      "execution_count": 20,
      "outputs": [
        {
          "output_type": "stream",
          "text": [
            "(6,)\n",
            "[1 2 3 4 5 6]\n"
          ],
          "name": "stdout"
        }
      ]
    },
    {
      "cell_type": "markdown",
      "metadata": {
        "id": "4pN-EeEDGHb1",
        "colab_type": "text"
      },
      "source": [
        "Numpy를 위 아래로 합칠 수 있습니다."
      ]
    },
    {
      "cell_type": "code",
      "metadata": {
        "id": "u5z29qIHGHiw",
        "colab_type": "code",
        "colab": {
          "base_uri": "https://localhost:8080/",
          "height": 87
        },
        "outputId": "5df72b78-0439-45eb-ff74-a3b8bd233ba4",
        "tags": []
      },
      "source": [
        "import numpy as np\n",
        "\n",
        "array1 = np.arange(4).reshape(1, 4)\n",
        "array2 = np.arange(8).reshape(2, 4)\n",
        "array3 = np.concatenate([array1, array2], axis=0)\n",
        "\n",
        "print(array3.shape)\n",
        "print(array3)"
      ],
      "execution_count": 2,
      "outputs": [
        {
          "output_type": "stream",
          "name": "stdout",
          "text": "(3, 4)\n[[0 1 2 3]\n [0 1 2 3]\n [4 5 6 7]]\n"
        }
      ]
    },
    {
      "cell_type": "markdown",
      "metadata": {
        "id": "0kFRNyINFzRd",
        "colab_type": "text"
      },
      "source": [
        "Numpy의 **형태를 변경**할 수 있다."
      ]
    },
    {
      "cell_type": "code",
      "metadata": {
        "id": "I-RVSif4Feht",
        "colab_type": "code",
        "colab": {
          "base_uri": "https://localhost:8080/",
          "height": 34
        },
        "outputId": "a1fd982a-0e01-4bdb-9603-db80b58ce367"
      },
      "source": [
        "import numpy as np\n",
        "\n",
        "array1 = np.array([1, 2, 3, 4])\n",
        "array2 = array1.reshape((2, 2))\n",
        "print(array2.shape)"
      ],
      "execution_count": 22,
      "outputs": [
        {
          "output_type": "stream",
          "text": [
            "(2, 2)\n"
          ],
          "name": "stdout"
        }
      ]
    },
    {
      "cell_type": "markdown",
      "metadata": {
        "id": "ZIy_DX6bGDpd",
        "colab_type": "text"
      },
      "source": [
        "Numpy의 **형태를 나누기** 할 수 있다."
      ]
    },
    {
      "cell_type": "code",
      "metadata": {
        "id": "yQGYnY2pF875",
        "colab_type": "code",
        "colab": {
          "base_uri": "https://localhost:8080/",
          "height": 70
        },
        "outputId": "1c84ae7d-f899-4066-8287-f5ad35e1abc3"
      },
      "source": [
        "import numpy as np\n",
        "\n",
        "array = np.arange(8).reshape(2, 4)\n",
        "left, right = np.split(array, [2], axis=1)\n",
        "\n",
        "print(left.shape)\n",
        "print(right.shape)\n",
        "print(right[1][1])"
      ],
      "execution_count": 23,
      "outputs": [
        {
          "output_type": "stream",
          "text": [
            "(2, 2)\n",
            "(2, 2)\n",
            "7\n"
          ],
          "name": "stdout"
        }
      ]
    }
  ]
}